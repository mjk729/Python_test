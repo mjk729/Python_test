{
 "cells": [
  {
   "cell_type": "code",
   "execution_count": 1,
   "id": "539782e0",
   "metadata": {},
   "outputs": [],
   "source": [
    "import numpy as np\n",
    "import pandas as pd\n",
    "from sklearn.preprocessing import MinMaxScaler\n",
    "from keras.models import model_from_json"
   ]
  },
  {
   "cell_type": "code",
   "execution_count": 18,
   "id": "3d4d01fa",
   "metadata": {},
   "outputs": [],
   "source": [
    "# 사용자 입력\n",
    "station_name = '남위례'\n",
    "date = '2025-01-01'\n",
    "time = '12:00'\n",
    "\n",
    "# 사용자 입력 처리 및 전처리\n",
    "data = pd.read_csv(f'{station_name}2.csv', header=None)\n",
    "data = data.values.astype('float32')\n",
    "data = data.reshape(len(data), 1)\n",
    "\n",
    "scaler = MinMaxScaler(feature_range=(0, 1))\n",
    "data = scaler.fit_transform(data)\n",
    "\n",
    "# 처음 데이터를 멜팅하기전에 이런식으로 배치되어있었음, 그래서 lookback을 설정해서 예측하고 싶은 시간대를 설정 가능\n",
    "# 06\t0607\t0708\t0809\t0910\t...\t1415\t1516\t1617\t1718\t1819\t1920\t2021\t2122\t2223\t23\n",
    "# ~06 = 1, 06~07 = 2, 07~08 = 3 08~09 = 4, 09~10 = 5, 10~11 = 6, 11~12 = 7, 12~13 = 8, 13~14 = 9, 14~15 = 10, 15~16 = 11\n",
    "# 16~17 = 12, 17~18 = 13, 18~19 = 14, 19~20 = 15, 20~21 = 16, 21~22 = 17, 22~23 = 18, 23~ = 19\n",
    "# 예를 들어, 만약 19개의 시간대를 사용하고 있다면 18번째 시간대의 데이터를 기반으로 다음 시간대(19번째 시간대)를 예측함\n",
    "look_back = 19"
   ]
  },
  {
   "cell_type": "code",
   "execution_count": 19,
   "id": "62d0b5c6",
   "metadata": {},
   "outputs": [
    {
     "name": "stdout",
     "output_type": "stream",
     "text": [
      "1/1 [==============================] - 2s 2s/step\n",
      "예측된 혼잡도: 112.37%\n"
     ]
    }
   ],
   "source": [
    "#모델 로드\n",
    "json_file = open('model2.json', 'r')\n",
    "loaded_model_json = json_file.read()\n",
    "json_file.close()\n",
    "model = model_from_json(loaded_model_json)\n",
    "model.load_weights('model2_weights.h5')\n",
    "\n",
    "# 입력 데이터 생성\n",
    "input_data = data[-look_back:]\n",
    "\n",
    "# 모델 예측\n",
    "input_data = np.reshape(input_data, (1, look_back, 1)) # 입력데이터 3d 형태로 변환 \n",
    "prediction = model.predict(input_data)\n",
    "\n",
    "# 예측 결과 출력\n",
    "scaled_prediction = scaler.inverse_transform(np.array([[prediction[0, 0]]])) # 실제 값으로 변환\n",
    "prediction_percent = (scaled_prediction[0, 0] / 26541) * 250\n",
    "print(f\"예측된 혼잡도: {prediction_percent:.2f}%\")"
   ]
  }
 ],
 "metadata": {
  "kernelspec": {
   "display_name": "Python 3 (ipykernel)",
   "language": "python",
   "name": "python3"
  },
  "language_info": {
   "codemirror_mode": {
    "name": "ipython",
    "version": 3
   },
   "file_extension": ".py",
   "mimetype": "text/x-python",
   "name": "python",
   "nbconvert_exporter": "python",
   "pygments_lexer": "ipython3",
   "version": "3.11.5"
  }
 },
 "nbformat": 4,
 "nbformat_minor": 5
}
