{
 "cells": [
  {
   "cell_type": "code",
   "execution_count": 2,
   "id": "9c2d5a55",
   "metadata": {},
   "outputs": [
    {
     "name": "stdout",
     "output_type": "stream",
     "text": [
      "INFO:tensorflow:Assets written to: C:\\Users\\kimmi\\AppData\\Local\\Temp\\tmpg934v079\\assets\n"
     ]
    },
    {
     "name": "stderr",
     "output_type": "stream",
     "text": [
      "INFO:tensorflow:Assets written to: C:\\Users\\kimmi\\AppData\\Local\\Temp\\tmpg934v079\\assets\n"
     ]
    }
   ],
   "source": [
    "# tensorflow lite를 사용하기 위해서는 tflite 파일 형식이 필요함\n",
    "import tensorflow as tf\n",
    "from tensorflow.keras.models import model_from_json\n",
    "\n",
    "# JSON 형식의 모델 아키텍처를 로드하고 Keras 모델을 생성\n",
    "with open('model2.json', 'r') as json_file:\n",
    "    loaded_model_json = json_file.read()\n",
    "loaded_model = model_from_json(loaded_model_json)\n",
    "\n",
    "# 불러온 모델에 가중치 로드\n",
    "loaded_model.load_weights('model2_weights.h5')\n",
    "\n",
    "# TensorFlow Lite Converter 생성\n",
    "converter = tf.lite.TFLiteConverter.from_keras_model(loaded_model)\n",
    "\n",
    "# <frozen runpy>:198:1: error: 'tf.TensorListReserve' op requires element_shape to be static during TF Lite transformation pass\n",
    "# 해당 오류는 변환 중에 완전히 지원되지 않는 동적 형태나 텐서 리스트 작업이 있는 경우 발생한다고 함\n",
    "\n",
    "# <unknown>:0: error: Lowering tensor list ops is failed. Please consider using Select TF ops \n",
    "# disabling `_experimental_lower_tensor_list_ops` flag in the TFLite converter object. For example, \n",
    "# converter.target_spec.supported_ops = [tf.lite.OpsSet.TFLITE_BUILTINS, tf.lite.OpsSet.SELECT_TF_OPS]\n",
    "# converter._experimental_lower_tensor_list_ops = False\n",
    "# 해결하고자 위에 추천한 예시를 적용해봄\n",
    "converter._experimental_lower_tensor_list_ops = False # 텐서 리스트 연산 비활성화\n",
    "# TensorFlow Lite가 지원하는 내장 연산과 TensorFlow의 연산을 모두 사용하도록 설정\n",
    "converter.target_spec.supported_ops = [tf.lite.OpsSet.TFLITE_BUILTINS, tf.lite.OpsSet.SELECT_TF_OPS]\n",
    "\n",
    "# 변환된 모델을 .tflite 파일로 저장\n",
    "tflite_model = converter.convert()\n",
    "with open('ex_model2.tflite', 'wb') as f:\n",
    "    f.write(tflite_model)\n"
   ]
  }
 ],
 "metadata": {
  "kernelspec": {
   "display_name": "Python 3 (ipykernel)",
   "language": "python",
   "name": "python3"
  },
  "language_info": {
   "codemirror_mode": {
    "name": "ipython",
    "version": 3
   },
   "file_extension": ".py",
   "mimetype": "text/x-python",
   "name": "python",
   "nbconvert_exporter": "python",
   "pygments_lexer": "ipython3",
   "version": "3.11.5"
  }
 },
 "nbformat": 4,
 "nbformat_minor": 5
}
