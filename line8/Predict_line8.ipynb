{
 "cells": [
  {
   "cell_type": "code",
   "execution_count": 10,
   "id": "539782e0",
   "metadata": {},
   "outputs": [
    {
     "name": "stdout",
     "output_type": "stream",
     "text": [
      "1/1 [==============================] - 1s 920ms/step\n",
      "예측된 인원 수: -226.8684539794922 명\n"
     ]
    }
   ],
   "source": [
    "import numpy as np\n",
    "import pandas as pd\n",
    "from sklearn.preprocessing import MinMaxScaler\n",
    "from keras.models import model_from_json\n",
    "\n",
    "# 사용자 입력\n",
    "user_station_name = '가락시장'\n",
    "user_date = '2022-09-10'\n",
    "user_time = '12:00'\n",
    "\n",
    "# 사용자 입력 처리 및 전처리\n",
    "user_data = pd.read_csv(f'{user_station_name}.csv', header=None)\n",
    "user_data = user_data.values.astype('float32')\n",
    "user_data = user_data.reshape(len(user_data), 1)\n",
    "\n",
    "scaler = MinMaxScaler(feature_range=(0, 1))\n",
    "user_data = scaler.fit_transform(user_data)\n",
    "\n",
    "# 처음 데이터를 멜팅하기전에 이런식으로 배치되어있었음, 그래서 lookback을 설정해서 예측하고 싶은 시간대를 설정 가능\n",
    "# 06\t0607\t0708\t0809\t0910\t...\t1415\t1516\t1617\t1718\t1819\t1920\t2021\t2122\t2223\t23\n",
    "look_back = 5\n",
    "\n",
    "# 모델 로드\n",
    "json_file = open('model.json', 'r')\n",
    "loaded_model_json = json_file.read()\n",
    "json_file.close()\n",
    "model = model_from_json(loaded_model_json)\n",
    "model.load_weights('model_weights.h5')\n",
    "\n",
    "# 입력 데이터 생성\n",
    "user_input = user_data[-look_back:]\n",
    "\n",
    "# 모델 예측\n",
    "user_input = np.reshape(user_input, (1, look_back, 1))\n",
    "prediction = model.predict(user_input)\n",
    "\n",
    "# 예측 결과 출력\n",
    "scaled_prediction = scaler.inverse_transform(np.array([[prediction[0, 0]]]))\n",
    "print(f\"예측된 인원 수: {scaled_prediction[0, 0]} 명\")\n"
   ]
  }
 ],
 "metadata": {
  "kernelspec": {
   "display_name": "Python 3 (ipykernel)",
   "language": "python",
   "name": "python3"
  },
  "language_info": {
   "codemirror_mode": {
    "name": "ipython",
    "version": 3
   },
   "file_extension": ".py",
   "mimetype": "text/x-python",
   "name": "python",
   "nbconvert_exporter": "python",
   "pygments_lexer": "ipython3",
   "version": "3.11.5"
  }
 },
 "nbformat": 4,
 "nbformat_minor": 5
}
